{
 "cells": [
  {
   "cell_type": "markdown",
   "metadata": {},
   "source": [
    "# Simulated Results\n",
    "The below plot shows the containment index distribution for simulated reads (a function of how contained a read is with positive values meaning truly contained)."
   ]
  },
  {
   "cell_type": "code",
   "execution_count": 9,
   "metadata": {},
   "outputs": [
    {
     "name": "stdout",
     "output_type": "stream",
     "text": [
      "Number of contained reads: 17144\n",
      "Number of uncontained reads: 601\n"
     ]
    },
    {
     "data": {
      "image/png": "[encoded data removed]",
      "text/plain": [
       "<Figure size 432x288 with 1 Axes>"
      ]
     },
     "metadata": {
      "needs_background": "light"
     },
     "output_type": "display_data"
    }
   ],
   "source": [
    "import matplotlib.pyplot as plt\n",
    "\n",
    "scorefn = '/home/mkirsche/github/ContainedReadRemoval/sim/simulatedscores.txt'\n",
    "\n",
    "buckets = [1000 * i for i in range(-40, 40)]\n",
    "\n",
    "containmentIndex = []\n",
    "names = []\n",
    "lens = []\n",
    "\n",
    "numContained,  numUncontained = 0, 0\n",
    "\n",
    "nameToScore = dict()\n",
    "nameToIndex = dict()\n",
    "\n",
    "with open(scorefn) as f:\n",
    "    index = 0\n",
    "    for line in f:\n",
    "        tokens = line.split()\n",
    "        curScore = int(tokens[1])\n",
    "        lens.append(int(tokens[3])-int(tokens[2]))\n",
    "        containmentIndex.append(curScore)\n",
    "        names.append(tokens[0])\n",
    "        nameToScore[tokens[0]] = curScore\n",
    "        nameToIndex[tokens[0]] = index\n",
    "        if curScore >= 0:\n",
    "            numContained += 1\n",
    "        else:\n",
    "            numUncontained += 1\n",
    "        index += 1\n",
    "                  \n",
    "print('Number of contained reads: ' + str(numContained))\n",
    "print('Number of uncontained reads: ' + str(numUncontained))\n",
    "\n",
    "plt.hist(containmentIndex, bins = buckets, color = 'mediumaquamarine')\n",
    "plt.title('Containment Index')\n",
    "plt.show()"
   ]
  },
  {
   "cell_type": "markdown",
   "metadata": {},
   "source": [
    "## How well the filter does\n",
    "Here is the same plot, but with reads colored based on whether or not my filter removed them.  Note the sharp decline in proportion kept as the y-axis is crossed and it goes from uncontained reads to contained reads. "
   ]
  },
  {
   "cell_type": "code",
   "execution_count": 8,
   "metadata": {},
   "outputs": [
    {
     "name": "stdout",
     "output_type": "stream",
     "text": [
      "Number called uncontained: 1986\n",
      "Lowest containment indices of removed reads:\n",
      "[-3402, -3061, -2963, -2655, -2156, -1946, -1900, -1451, -1216, -1008, -935, -915, -887, -866, -703, -660, -571, -496, -135, -3, 14, 179, 241, 318, 351, 377, 449, 462, 479, 508]\n"
     ]
    },
    {
     "data": {
      "image/png": "[encoded data removed]",
      "text/plain": [
       "<Figure size 432x288 with 1 Axes>"
      ]
     },
     "metadata": {
      "needs_background": "light"
     },
     "output_type": "display_data"
    }
   ],
   "source": [
    "import matplotlib.patches as mpatches\n",
    "\n",
    "uncontainedCI = []\n",
    "containedCI = []\n",
    "\n",
    "resultsfn = '/home/mkirsche/eclipse-workspace/PacBioHashing/uncontainedreadnames.txt'\n",
    "\n",
    "uncontainedNames = set()\n",
    "\n",
    "with open(resultsfn) as f:\n",
    "    for line in f:\n",
    "        uncontainedNames.add(line.split()[0])\n",
    "        \n",
    "print('Number called uncontained: ' + str(len(uncontainedNames)))\n",
    "\n",
    "for a in nameToScore:\n",
    "    b = nameToScore[a]\n",
    "    if a in uncontainedNames:\n",
    "        uncontainedCI.append(b)\n",
    "    else:\n",
    "        containedCI.append(b)\n",
    "        \n",
    "colors = ['palevioletred', 'plum']\n",
    "\n",
    "containedCI.sort()\n",
    "print('Lowest containment indices of removed reads:')\n",
    "print(containedCI[0:30])\n",
    "        \n",
    "plt.hist([uncontainedCI, containedCI], color = colors , bins = buckets, stacked = True)\n",
    "\n",
    "labels = ['Called as uncontained', 'Called as contained']\n",
    "legendHandles = []\n",
    "for i in range(0, len(colors)):\n",
    "    legendHandles.append(mpatches.Patch(color=colors[i], label=labels[i]))\n",
    "plt.legend(handles=legendHandles)\n",
    "plt.title('Containment Index')\n",
    "plt.xlim(-10000, 30000)\n",
    "\n",
    "plt.show()"
   ]
  },
  {
   "cell_type": "markdown",
   "metadata": {},
   "source": [
    "## Number of false positives and negatives:"
   ]
  },
  {
   "cell_type": "code",
   "execution_count": 3,
   "metadata": {},
   "outputs": [
    {
     "name": "stdout",
     "output_type": "stream",
     "text": [
      "Wrongly removed count: 20\n",
      "Wrongly kept count: 1405\n"
     ]
    }
   ],
   "source": [
    "wronglyRemovedNames = set()\n",
    "wronglyKeptNames = set()\n",
    "\n",
    "for name in nameToScore:\n",
    "    score = nameToScore[name]\n",
    "    if score < 0 and name not in uncontainedNames:\n",
    "        wronglyRemovedNames.add(name)\n",
    "    if score >= 0 and name in uncontainedNames:\n",
    "        wronglyKeptNames.add(name)\n",
    "        \n",
    "print('Wrongly removed count: ' + str(len(wronglyRemovedNames)))\n",
    "print('Wrongly kept count: ' + str(len(wronglyKeptNames)))"
   ]
  },
  {
   "cell_type": "markdown",
   "metadata": {},
   "source": [
    "## Looking at the chains of minimizer matches within the more extreme wrong guesses"
   ]
  },
  {
   "cell_type": "code",
   "execution_count": 4,
   "metadata": {},
   "outputs": [],
   "source": [
    "nameToLog = dict()\n",
    "logfile = '/home/mkirsche/eclipse-workspace/PacBioHashing/log.txt'\n",
    "with open(logfile) as f:\n",
    "    for line in f:\n",
    "        tokens = line.split('\\t')\n",
    "        curName = tokens[0].split()[0]\n",
    "        nameToLog[curName] = tokens"
   ]
  },
  {
   "cell_type": "code",
   "execution_count": 5,
   "metadata": {},
   "outputs": [
    {
     "name": "stdout",
     "output_type": "stream",
     "text": [
      "read905 101 6550 30014 -2156 [214, 216, 543, 1043, 1314, 1523, 1947, 2080, 2378, 2491, 2530, 2740, 2991, 3273, 3374, 3437, 4074, 4129, 4239, 4502, 4943, 4945, 4950, 5421, 6430, 6432, 6438, 6439, 6440, 6445, 6450, 6624, 6806, 6808, 6862, 7116, 7164, 7629, 7630, 7883, 8178, 8376, 8380, 8498, 9148, 9151, 9152, 9154, 9157, 9161, 9204, 9267, 9335, 9449, 9731, 9749, 9984, 10739, 10743, 10744, 10764, 11299, 11404, 12231, 13725, 13729, 13799, 14102, 14346, 14403, 14408, 14596, 14604, 14647, 14926, 14928, 14934, 15017, 15020, 15058, 15119, 15273, 15930, 15953, 15997, 16699, 16837, 16839, 17005, 17027, 17254, 17484, 17639, 17640, 17894, 17897, 17943, 18386, 18459, 18460, 19457]\n",
      "\n",
      "read14057 160 7868 35964 -3402 [86, 420, 714, 716, 718, 1888, 2179, 2405, 2411, 4598, 4708, 4989, 5446, 5447, 5452, 5782, 6022, 6028, 6966, 7014, 7096, 7097, 7105, 7106, 7107, 7115, 7122, 7123, 7368, 7407, 7743, 9402, 9749, 9819, 9994, 10061, 10062, 10378, 10381, 11310, 11312, 11313, 11408, 11448, 11451, 11459, 11462, 11470, 11566, 11632, 11633, 11636, 11643, 11645, 11652, 11844, 11906, 11908, 12357, 12383, 12449, 12450, 12760, 12761, 13093, 13577, 14102, 14744, 14922, 15096, 15321, 15452, 15551, 15627, 15983, 16267, 16526, 16527, 16915, 16920, 17077, 17315, 17526, 17535, 17536, 17537, 17538, 18040, 18380, 18446, 19073, 19074, 19636, 20180, 20645, 20648, 20794, 20948, 20949, 20998, 21147, 22124, 23043, 23900, 24088, 24095, 24604, 25622, 25623, 25936, 26193, 26339, 26458, 26461, 26671, 26890, 26898, 26901, 27213, 27247, 27248, 27249, 27250, 27588, 27639, 27714, 28548, 28549, 28660, 28965, 29225, 29410, 29415, 29807, 29812, 30863, 30941, 30958, 30959, 31028, 32120, 32128, 32464, 33358, 33400, 33403, 33404, 33409, 33869, 33875, 33882, 33883, 34584, 34850, 34957, 35185, 35186, 35597, 35603, 35607]\n",
      "\n",
      "read9156 163 7688 35623 -3061 [97, 273, 274, 653, 1158, 3004, 3171, 3175, 3246, 3642, 3644, 3894, 4722, 4747, 5233, 5263, 5717, 5719, 6440, 7558, 7769, 8038, 8044, 8050, 8254, 8385, 8805, 9252, 9254, 9256, 9264, 9378, 9382, 9387, 9392, 9853, 10097, 10101, 10168, 11176, 11223, 11229, 11677, 11680, 11706, 11805, 11814, 11818, 12151, 12693, 12710, 13051, 13355, 13356, 13359, 13360, 13764, 13766, 13773, 14371, 14373, 14465, 14523, 14531, 14801, 15164, 15305, 15635, 15855, 16115, 16154, 16461, 16589, 17163, 17316, 17961, 18091, 18151, 18157, 18510, 18613, 18657, 18720, 18722, 19033, 19189, 19195, 19525, 19527, 19698, 20017, 20020, 20093, 20138, 20539, 20545, 20548, 20599, 20745, 20747, 21098, 21435, 21550, 21569, 21932, 22326, 22564, 22565, 23466, 23468, 23473, 23480, 24382, 25105, 25127, 25129, 25130, 25136, 25669, 25945, 26385, 26390, 26683, 27119, 27216, 27220, 27628, 28210, 29021, 29151, 29159, 29382, 29436, 29489, 29741, 29827, 30061, 31343, 31455, 31849, 31850, 32430, 32873, 33418, 33419, 33652, 33706, 33710, 34157, 34161, 34167, 34220, 34268, 34270, 34279, 35031, 35082, 35088, 35089, 35163, 35166, 35173, 35189]\n",
      "\n",
      "read16166 123 6708 30847 -2655 [125, 321, 322, 997, 999, 1060, 1164, 1780, 1786, 1788, 1791, 2310, 2351, 2708, 2712, 2849, 2850, 2871, 2872, 2920, 3413, 3415, 3533, 3794, 4594, 5685, 6179, 6426, 6427, 6433, 6498, 6594, 7056, 7100, 7237, 7238, 7391, 7397, 7488, 7701, 7707, 8282, 8390, 8410, 9190, 9471, 9477, 9775, 9976, 10697, 10832, 11300, 11638, 11640, 11755, 11756, 12655, 12657, 12661, 13076, 13213, 13457, 13458, 14143, 14214, 14615, 15892, 15895, 15903, 15904, 15947, 16186, 16244, 16353, 17789, 18215, 18312, 18314, 18319, 18735, 18738, 18743, 19194, 19349, 19442, 19991, 20130, 20529, 21532, 21533, 21534, 21536, 21544, 21931, 22376, 22539, 22956, 23160, 23216, 23217, 23540, 23544, 24004, 24149, 24662, 25302, 25919, 25978, 26121, 26266, 26619, 26767, 28215, 28272, 29193, 29195, 29196, 29198, 29766, 30174, 30439, 30440, 30685]\n",
      "\n",
      "read7638 114 6481 29891 -2963 [89, 98, 100, 743, 1663, 1672, 1673, 1681, 1685, 2199, 2745, 3389, 3416, 3443, 3915, 3916, 4189, 4292, 4296, 4369, 4645, 4651, 5212, 5446, 5451, 5488, 5592, 5686, 5688, 5692, 5698, 5699, 5703, 5766, 5956, 6775, 7044, 7347, 7653, 7655, 7726, 7866, 8134, 8206, 8546, 8972, 9339, 10823, 10844, 11069, 11072, 11227, 11646, 12290, 12415, 12417, 12906, 13501, 14344, 14474, 14494, 14497, 14835, 15023, 15024, 15084, 15254, 15261, 15268, 16045, 16046, 16282, 16602, 16948, 17062, 17494, 17619, 17670, 18049, 18234, 18303, 18310, 18312, 18915, 19057, 19140, 19709, 19871, 21381, 22759, 22767, 22769, 22772, 22773, 22775, 22852, 22951, 22959, 23565, 23770, 24174, 24177, 24179, 24398, 24403, 24408, 24668, 24865, 24867, 25819, 25820, 25837, 25909, 25911]\n",
      "\n"
     ]
    }
   ],
   "source": [
    "print('Wrongly discarded read which are most uncontained')\n",
    "for name in wronglyRemovedNames:\n",
    "    if name in nameToLog and nameToScore[name] < -2000:\n",
    "        tokens = nameToLog[name]\n",
    "        longestChain = int(tokens[1])\n",
    "        numMinimizers = int(tokens[5])\n",
    "        readLength = int(tokens[3])\n",
    "        chain = tokens[2]\n",
    "        ci = nameToScore[name]\n",
    "        print(name + ' ' + str(longestChain) + ' ' + str(numMinimizers) + ' ' + str(readLength) + ' ' + str(ci) + ' ' + chain)\n",
    "        print('')"
   ]
  },
  {
   "cell_type": "code",
   "execution_count": 6,
   "metadata": {},
   "outputs": [
    {
     "name": "stdout",
     "output_type": "stream",
     "text": [
      "read14968 53 2585 11882 28997 [677, 948, 1326, 1660, 2257, 2341, 2875, 2992, 2998, 3002, 3008, 3177, 3657, 3663, 3915, 3919, 3924, 4604, 4610, 4612, 4643, 4806, 4813, 4948, 5061, 5064, 5073, 5224, 5340, 5497, 5523, 6347, 6538, 6541, 6629, 6970, 6973, 6977, 7029, 7075, 7299, 7303, 8207, 8694, 8719, 10272, 10512, 10542, 10547, 11249, 11285, 11378, 11547]\n",
      "\n",
      "read3874 63 3853 17544 27768 [806, 921, 927, 970, 1000, 1003, 1140, 1141, 1745, 2037, 2567, 2795, 3467, 3720, 3729, 4245, 4816, 4820, 4849, 4855, 5161, 5284, 6830, 6891, 6937, 6985, 7397, 7465, 7466, 7827, 7855, 7857, 7872, 7878, 8074, 8136, 9141, 9145, 9151, 10061, 10062, 10221, 10261, 10454, 10961, 10963, 11536, 11869, 11914, 12874, 13100, 13330, 13635, 13640, 13644, 13645, 14036, 14629, 14808, 14996, 15322, 15534, 15537]\n",
      "\n",
      "read12209 45 2263 10287 30739 [63, 70, 634, 755, 760, 994, 995, 1108, 1110, 1383, 2282, 2734, 2740, 3165, 3276, 3335, 3713, 3770, 4250, 4252, 4253, 4502, 4846, 5236, 5240, 5241, 5250, 5299, 5302, 5521, 5525, 5532, 5535, 5537, 5571, 5805, 6566, 6646, 6766, 6900, 7007, 8929, 9153, 9158, 9760]\n",
      "\n",
      "read7127 45 2224 10140 29763 [203, 207, 273, 467, 750, 1450, 1706, 1761, 2018, 2019, 2022, 2029, 2055, 2256, 2811, 3220, 3548, 3555, 3599, 3727, 3731, 3734, 4238, 4302, 4370, 6733, 7291, 7363, 7818, 8204, 8281, 8287, 8444, 8448, 8454, 8545, 8546, 8621, 8624, 8663, 8964, 9075, 9311, 9320, 9526]\n",
      "\n",
      "read14515 109 5427 24864 27066 [43, 221, 450, 455, 570, 1379, 1382, 1385, 1386, 1392, 2356, 2912, 3377, 3557, 3701, 3739, 3740, 3748, 4122, 4221, 4225, 4226, 4424, 4639, 4980, 4981, 5247, 5667, 5669, 5670, 5677, 5733, 5932, 5935, 6921, 6924, 6926, 6976, 7520, 7525, 7610, 8901, 8908, 9976, 10199, 10305, 10327, 10960, 10997, 11035, 11036, 11319, 11323, 11328, 11329, 11596, 11720, 11722, 11834, 12133, 12207, 12759, 12942, 13648, 13791, 14010, 14658, 15271, 15278, 15427, 15511, 15760, 15777, 16255, 16827, 16833, 17038, 17322, 17788, 17903, 18117, 18417, 18582, 18586, 19105, 19130, 19207, 19306, 19309, 19310, 19505, 19508, 21094, 21224, 21227, 21423, 21629, 21893, 21899, 22143, 22146, 22654, 22656, 23151, 23265, 23269, 23425, 23474, 23637]\n",
      "\n"
     ]
    }
   ],
   "source": [
    "print('Wrongly kept reads which are most contained')\n",
    "for name in wronglyKeptNames:\n",
    "    if name in nameToLog and nameToScore[name] > 27000:\n",
    "        tokens = nameToLog[name]\n",
    "        longestChain = int(tokens[1])\n",
    "        numMinimizers = int(tokens[5])\n",
    "        readLength = int(tokens[3])\n",
    "        chain = tokens[2]\n",
    "        ci = nameToScore[name]\n",
    "        print(name + ' ' + str(longestChain) + ' ' + str(numMinimizers) + ' ' + str(readLength) + ' ' + str(ci) + ' ' + chain)\n",
    "        print('')"
   ]
  },
  {
   "cell_type": "markdown",
   "metadata": {},
   "source": [
    "## How the number of incorrectly removed reads compares to a length-based threshold\n",
    "Here the length threshold is set to match the number of removed reads of the filter settings."
   ]
  },
  {
   "cell_type": "code",
   "execution_count": 7,
   "metadata": {},
   "outputs": [
    {
     "name": "stdout",
     "output_type": "stream",
     "text": [
      "My incorrectly removed: 20\n",
      "Length threshold to remove same number of reads: 21973\n",
      "Length-based incorrectly removed: 23\n"
     ]
    }
   ],
   "source": [
    "def countLen(countKeep, lens, ct):\n",
    "    sorter = []\n",
    "    for i in range(0, len(lens)):\n",
    "        sorter.append((lens[i], ct[i]))\n",
    "    sorter.sort()\n",
    "    bad = 0\n",
    "    lt = str(sorter[len(lens)-countKeep][0])\n",
    "    print('Length threshold to remove same number of reads: ' + str(lt))\n",
    "    for i in range(0, len(lens)-countKeep-1):\n",
    "        if sorter[i][1] < 0:\n",
    "            bad += 1\n",
    "    print('Length-based incorrectly removed: ' + str(bad))\n",
    "   \n",
    "print('My incorrectly removed: ' + str(len(wronglyRemovedNames)))\n",
    "countLen(len(uncontainedNames), lens, containmentIndex)"
   ]
  },
  {
   "cell_type": "code",
   "execution_count": null,
   "metadata": {},
   "outputs": [],
   "source": []
  }
 ],
 "metadata": {
  "kernelspec": {
   "display_name": "Python 3",
   "language": "python",
   "name": "python3"
  },
  "language_info": {
   "codemirror_mode": {
    "name": "ipython",
    "version": 3
   },
   "file_extension": ".py",
   "mimetype": "text/x-python",
   "name": "python",
   "nbconvert_exporter": "python",
   "pygments_lexer": "ipython3",
   "version": "3.7.1"
  }
 },
 "nbformat": 4,
 "nbformat_minor": 2
}
