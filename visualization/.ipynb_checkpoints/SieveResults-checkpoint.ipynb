{
 "cells": [
  {
   "cell_type": "markdown",
   "metadata": {},
   "source": [
    "# Simulated Results\n",
    "The below plot shows the containment index distribution for simulated reads (a function of how contained a read is with positive values meaning truly contained).  The reads are simulated to 30x coverage with the Oxford Nanopore MinION read length distribution (using public Arabidopsis data) from a section of 5 Mbp of the human genome.  "
   ]
  },
  {
   "cell_type": "code",
   "execution_count": 8,
   "metadata": {},
   "outputs": [
    {
     "name": "stdout",
     "output_type": "stream",
     "text": [
      "Number of contained reads: 17144\n",
      "Number of uncontained reads: 601\n",
      "Total length of contained reads: 127124725\n",
      "Total length of uncontained reads: 22891993\n",
      "Perecent of total length uncontained: 15.259627930268412\n"
     ]
    },
    {
     "data": {
      "image/png": "[encoded data removed]",
      "text/plain": [
       "<Figure size 432x288 with 1 Axes>"
      ]
     },
     "metadata": {
      "needs_background": "light"
     },
     "output_type": "display_data"
    }
   ],
   "source": [
    "import matplotlib.pyplot as plt\n",
    "\n",
    "scorefn = '/home/mkirsche/github/ContainedReadRemoval/sim/simulatedscores.txt'\n",
    "\n",
    "buckets = [1000 * i for i in range(-40, 40)]\n",
    "\n",
    "containmentIndex = []\n",
    "names = []\n",
    "lens = []\n",
    "\n",
    "numContained, numUncontained = 0, 0\n",
    "sumContained, sumUncontained = 0, 0\n",
    "\n",
    "nameToScore = dict()\n",
    "nameToIndex = dict()\n",
    "\n",
    "with open(scorefn) as f:\n",
    "    index = 0\n",
    "    for line in f:\n",
    "        tokens = line.split()\n",
    "        curScore = int(tokens[1])\n",
    "        curLen = int(tokens[3])-int(tokens[2])\n",
    "        lens.append(curLen)\n",
    "        containmentIndex.append(curScore)\n",
    "        names.append(tokens[0])\n",
    "        nameToScore[tokens[0]] = curScore\n",
    "        nameToIndex[tokens[0]] = index\n",
    "        if curScore >= 0:\n",
    "            numContained += 1\n",
    "            sumContained += curLen\n",
    "        else:\n",
    "            numUncontained += 1\n",
    "            sumUncontained += curLen\n",
    "        index += 1\n",
    "        \n",
    "totLength = sumContained + sumUncontained\n",
    "                  \n",
    "print('Number of contained reads: ' + str(numContained))\n",
    "print('Number of uncontained reads: ' + str(numUncontained))\n",
    "print('Total length of contained reads: ' + str(sumContained))\n",
    "print('Total length of uncontained reads: ' + str(sumUncontained))\n",
    "print('Perecent of total length uncontained: ' + str(float(sumUncontained * 100) / float(totLength)))\n",
    "\n",
    "plt.hist(containmentIndex, bins = buckets, color = 'mediumaquamarine')\n",
    "plt.title('Containment Index')\n",
    "plt.show()"
   ]
  },
  {
   "cell_type": "markdown",
   "metadata": {},
   "source": [
    "## How well the filter does\n",
    "Here is the same plot, but with reads colored based on whether or not my filter removed them.  Note the sharp decline in proportion kept as the y-axis is crossed and it goes from uncontained reads to contained reads. \n",
    "\n",
    "I use the following parameters:\n",
    "\n",
    "k = 15, w = 11 for minimizers\n",
    "\n",
    "Filter all reads < 12 kbp automatically\n",
    "\n",
    "Threshold for chain length chosen automatically so approximately 8% of short reads kept as uncontained"
   ]
  },
  {
   "cell_type": "code",
   "execution_count": 2,
   "metadata": {},
   "outputs": [
    {
     "name": "stdout",
     "output_type": "stream",
     "text": [
      "Number called uncontained: 1756\n",
      "Proportion of uncontained reads that were kept: 580 out of 601(recall: 0.9650582362728786)\n",
      "Proportion of kept reads which are uncontained: 580 out of 1756(precision: 0.33029612756264237)\n",
      "Percent of bases kept: 32.68170351520422\n",
      "Percent of reads kept: 9.895745280360664\n",
      "Lowest containment indices of removed reads:\n",
      "[-3402, -3061, -2963, -2655, -2156, -1946, -1900, -1451, -1216, -935, -915, -866, -703, -660, -571, -561, -496, -415, -359, -135, -3, 14, 241, 318, 351, 377, 437, 449, 462, 479]\n"
     ]
    },
    {
     "data": {
      "image/png": "[encoded data removed]",
      "text/plain": [
       "<Figure size 432x288 with 1 Axes>"
      ]
     },
     "metadata": {
      "needs_background": "light"
     },
     "output_type": "display_data"
    }
   ],
   "source": [
    "import matplotlib.patches as mpatches\n",
    "\n",
    "uncontainedCI = []\n",
    "containedCI = []\n",
    "\n",
    "myUncontainedLen = 0\n",
    "\n",
    "resultsfn = '/home/mkirsche/eclipse-workspace/PacBioHashing/uncontainedreadnames.txt'\n",
    "\n",
    "uncontainedNames = set()\n",
    "\n",
    "with open(resultsfn) as f:\n",
    "    for line in f:\n",
    "        uncontainedNames.add(line.split()[0])\n",
    "        \n",
    "print('Number called uncontained: ' + str(len(uncontainedNames)))\n",
    "\n",
    "tp = 0\n",
    "\n",
    "for a in nameToScore:\n",
    "    b = nameToScore[a]\n",
    "    if a in uncontainedNames:\n",
    "        uncontainedCI.append(b)\n",
    "        myUncontainedLen += lens[nameToIndex[a]]\n",
    "        if b < 0:\n",
    "            tp += 1\n",
    "    else:\n",
    "        containedCI.append(b)\n",
    "        \n",
    "recall = float(tp) / float(numUncontained)\n",
    "precision = float(tp) / float(len(uncontainedNames))\n",
    "        \n",
    "print('Proportion of uncontained reads that were kept: ' + str(tp) + ' out of ' + str(numUncontained) + '(recall: ' + str(recall) + ')')\n",
    "print('Proportion of kept reads which are uncontained: ' + str(tp) + ' out of ' + str(len(uncontainedNames)) + '(precision: ' + str(precision) + ')')\n",
    "\n",
    "\n",
    "print('Percent of bases kept: '+ str(float(myUncontainedLen * 100) / float(totLength)))\n",
    "print('Percent of reads kept: '+ str(float(len(uncontainedCI) * 100) / float(numContained + numUncontained)))\n",
    "\n",
    "colors = ['palevioletred', 'plum']\n",
    "\n",
    "containedCI.sort()\n",
    "print('Lowest containment indices of removed reads:')\n",
    "print(containedCI[0:30])\n",
    "\n",
    "uncontainedCI.sort()\n",
    "        \n",
    "plt.hist([uncontainedCI, containedCI], color = colors , bins = buckets, stacked = True)\n",
    "\n",
    "labels = ['Called as uncontained', 'Called as contained']\n",
    "legendHandles = []\n",
    "for i in range(0, len(colors)):\n",
    "    legendHandles.append(mpatches.Patch(color=colors[i], label=labels[i]))\n",
    "plt.legend(handles=legendHandles)\n",
    "plt.title('Containment Index')\n",
    "plt.xlim(-10000, 30000)\n",
    "\n",
    "plt.show()"
   ]
  },
  {
   "cell_type": "markdown",
   "metadata": {},
   "source": [
    "## Number of false positives and negatives:"
   ]
  },
  {
   "cell_type": "code",
   "execution_count": 3,
   "metadata": {},
   "outputs": [
    {
     "name": "stdout",
     "output_type": "stream",
     "text": [
      "Wrongly removed count: 21\n",
      "Wrongly kept count: 1176\n"
     ]
    }
   ],
   "source": [
    "wronglyRemovedNames = set()\n",
    "wronglyKeptNames = set()\n",
    "\n",
    "for name in nameToScore:\n",
    "    score = nameToScore[name]\n",
    "    if score < 0 and name not in uncontainedNames:\n",
    "        wronglyRemovedNames.add(name)\n",
    "    if score >= 0 and name in uncontainedNames:\n",
    "        wronglyKeptNames.add(name)\n",
    "        \n",
    "print('Wrongly removed count: ' + str(len(wronglyRemovedNames)))\n",
    "print('Wrongly kept count: ' + str(len(wronglyKeptNames)))"
   ]
  },
  {
   "cell_type": "markdown",
   "metadata": {},
   "source": [
    "## Looking at the chains of minimizer matches within the more extreme wrong guesses"
   ]
  },
  {
   "cell_type": "code",
   "execution_count": 4,
   "metadata": {},
   "outputs": [],
   "source": [
    "nameToLog = dict()\n",
    "logfile = '/home/mkirsche/eclipse-workspace/PacBioHashing/log.txt'\n",
    "with open(logfile) as f:\n",
    "    for line in f:\n",
    "        tokens = line.split('\\t')\n",
    "        curName = tokens[0].split()[0]\n",
    "        nameToLog[curName] = tokens"
   ]
  },
  {
   "cell_type": "code",
   "execution_count": 5,
   "metadata": {},
   "outputs": [
    {
     "name": "stdout",
     "output_type": "stream",
     "text": [
      "Wrongly discarded read which are most uncontained\n",
      "read905 79 5454 30014 -2156 [267, 539, 1939, 2373, 3437, 4343, 4406, 4489, 4835, 4950, 6213, 6215, 6438, 6508, 7081, 7083, 7086, 7199, 7236, 7773, 8050, 8182, 8498, 9204, 9595, 10629, 10631, 12389, 12391, 12392, 12761, 13923, 14179, 14863, 15468, 15997, 16004, 16045, 16765, 16771, 17575, 17630, 17906, 18280, 18286, 18315, 18450, 18651, 18653, 19609, 19670, 20045, 20468, 20823, 21010, 21015, 21456, 21628, 21636, 21638, 22495, 22689, 23342, 23378, 24317, 25138, 25139, 25722, 26522, 27294, 27526, 27793, 28040, 28881, 29116, 29342, 29344, 29754, 29892]\n",
      "\n",
      "read7638 92 5343 29891 -2963 [53, 351, 788, 870, 1080, 1272, 1311, 2183, 2186, 2667, 2674, 2675, 3072, 3226, 3243, 3849, 3858, 3916, 4182, 4493, 4779, 5303, 5575, 5582, 5583, 6158, 6510, 7072, 7857, 8232, 8377, 8525, 8589, 8964, 8966, 9533, 9775, 9779, 9983, 10318, 10497, 10634, 10817, 10997, 11269, 11380, 11382, 12045, 13704, 14105, 14146, 14421, 14474, 14816, 15022, 15023, 15364, 15906, 15909, 16549, 16948, 17155, 17157, 17399, 17742, 18045, 18082, 18244, 19356, 20025, 20624, 22670, 23060, 23100, 23791, 24320, 24827, 25632, 25893, 26071, 26408, 26415, 26641, 27067, 27161, 27164, 29202, 29347, 29737, 29738, 29829, 29830]\n",
      "\n",
      "read16166 104 5552 30847 -2655 [125, 322, 997, 999, 1060, 1164, 1780, 1786, 1788, 1791, 2351, 2708, 2712, 2849, 2850, 2871, 2920, 3413, 3415, 3533, 3794, 4594, 5685, 6179, 6426, 6427, 6433, 6498, 6594, 7100, 7237, 7238, 7397, 7488, 7701, 7707, 8282, 8390, 8410, 9190, 9471, 9775, 9976, 10697, 10832, 11638, 11755, 11756, 12655, 12657, 13076, 13213, 13457, 13458, 14615, 15892, 15895, 15903, 15904, 15947, 16186, 16244, 16353, 17789, 18215, 18312, 18314, 18319, 18735, 18738, 19194, 19349, 19442, 19991, 20130, 20529, 21533, 21534, 21544, 21931, 22376, 22539, 22956, 23160, 23217, 23540, 23544, 24004, 24149, 25302, 25919, 25978, 26121, 26266, 26619, 26767, 28272, 29195, 29196, 29198, 29766, 30174, 30440, 30685]\n",
      "\n",
      "read14057 122 6493 35964 -3402 [86, 420, 714, 716, 718, 1888, 2405, 4598, 4708, 4989, 5446, 5447, 5452, 5782, 6028, 6966, 7014, 7096, 7106, 7107, 7115, 7122, 7123, 7368, 9402, 9749, 9994, 10061, 10378, 10381, 11310, 11312, 11313, 11448, 11459, 11462, 11470, 11566, 11632, 11643, 11645, 11652, 11844, 11908, 12357, 12383, 12449, 12450, 12761, 13093, 13577, 14102, 14744, 14922, 15096, 15321, 15452, 15627, 15983, 16267, 16526, 16527, 16920, 17077, 17315, 17526, 17537, 17538, 18380, 18446, 19073, 19074, 19636, 20180, 20645, 20648, 20794, 20948, 20949, 20998, 21147, 22124, 23900, 24095, 24604, 25622, 25623, 25936, 26339, 26461, 26890, 26898, 26901, 27213, 27249, 27588, 27639, 28549, 28660, 28965, 29225, 29410, 29415, 29807, 30958, 30959, 31028, 32120, 32128, 33400, 33403, 33404, 33875, 33882, 33883, 34584, 34850, 34957, 35185, 35186, 35603, 35607]\n",
      "\n",
      "read10368 61 3338 18496 -1946 [106, 115, 737, 1410, 1412, 1581, 1742, 1775, 3371, 3730, 3794, 3803, 3961, 4309, 4318, 4419, 5222, 5223, 6929, 6936, 7183, 7185, 8093, 8100, 8139, 8347, 8538, 8541, 8644, 8645, 8651, 10253, 10418, 10429, 10922, 10923, 11248, 11429, 11778, 11780, 11806, 12592, 12677, 13418, 13504, 13506, 13565, 14132, 14216, 15267, 15268, 16868, 17010, 17167, 18129, 18133, 18140, 18146, 18147, 18149, 18207]\n",
      "\n",
      "read9156 130 6357 35623 -3061 [97, 273, 274, 653, 1158, 3171, 3246, 3644, 3894, 4722, 4747, 5233, 5263, 5719, 6440, 7558, 7769, 8038, 8044, 8050, 8254, 8805, 9252, 9254, 9378, 9382, 9392, 10101, 10168, 11176, 11223, 11229, 11677, 11680, 11805, 11814, 11818, 12151, 12693, 12710, 13051, 13356, 13359, 13360, 13766, 13773, 14371, 14373, 14465, 14523, 14531, 14801, 15164, 15305, 15635, 15855, 16154, 16461, 16589, 17961, 18091, 18151, 18157, 18510, 18613, 18657, 18720, 18722, 19033, 19189, 19195, 19525, 19698, 20017, 20020, 20093, 20138, 20539, 20548, 20599, 20745, 20747, 21098, 21435, 21569, 21932, 22564, 23466, 23468, 23473, 23480, 25105, 25127, 25129, 25669, 25945, 26385, 26390, 26683, 27216, 27628, 28210, 29021, 29151, 29159, 29382, 29436, 29489, 29741, 29827, 30061, 31343, 31455, 31849, 31850, 32430, 33419, 33652, 33706, 34157, 34167, 34268, 34270, 34279, 35082, 35088, 35163, 35166, 35173, 35189]\n",
      "\n"
     ]
    }
   ],
   "source": [
    "print('Wrongly discarded read which are most uncontained')\n",
    "for name in wronglyRemovedNames:\n",
    "    if name in nameToLog and nameToScore[name] < 0 and nameToScore[name] <= containedCI[5]:\n",
    "        tokens = nameToLog[name]\n",
    "        longestChain = int(tokens[1])\n",
    "        numMinimizers = int(tokens[5])\n",
    "        readLength = int(tokens[3])\n",
    "        chain = tokens[2]\n",
    "        ci = nameToScore[name]\n",
    "        print(name + ' ' + str(longestChain) + ' ' + str(numMinimizers) + ' ' + str(readLength) + ' ' + str(ci) + ' ' + chain)\n",
    "        print('')"
   ]
  },
  {
   "cell_type": "code",
   "execution_count": 6,
   "metadata": {},
   "outputs": [
    {
     "name": "stdout",
     "output_type": "stream",
     "text": [
      "Wrongly kept reads which are most contained\n",
      "read3450 82 3393 18938 27615 [156, 546, 1228, 1231, 1607, 2027, 2241, 2452, 2455, 2461, 2850, 2855, 3092, 3094, 3440, 3441, 3444, 4631, 5079, 5176, 5390, 6123, 6127, 6662, 6664, 6971, 7076, 7698, 7889, 8105, 8106, 8107, 8346, 8933, 9388, 9739, 10108, 10267, 10407, 10411, 10421, 10569, 10572, 10960, 10962, 11349, 11757, 11765, 11768, 11769, 11851, 12240, 12423, 12666, 13194, 13673, 13718, 14120, 14123, 14127, 14133, 14384, 14385, 14565, 14697, 14698, 15046, 15107, 15173, 15944, 15997, 16122, 16270, 16854, 17094, 17248, 17385, 17388, 17397, 17399, 17757, 18220]\n",
      "\n",
      "read14515 87 4440 24864 27066 [43, 450, 455, 570, 1382, 1385, 1386, 2356, 2912, 3377, 3557, 3739, 3740, 4122, 4221, 4225, 4226, 4424, 4639, 4980, 4981, 5247, 5669, 5670, 5733, 5932, 5935, 6921, 6924, 6976, 7525, 7610, 8901, 9976, 10199, 10305, 10327, 10960, 10997, 11035, 11036, 11319, 11328, 11720, 11722, 12133, 12207, 12759, 12942, 13648, 13791, 14010, 14658, 15271, 15278, 15427, 15511, 15760, 16833, 17038, 17788, 17903, 18117, 18417, 18586, 19105, 19130, 19207, 19306, 19309, 19310, 19508, 21094, 21227, 21423, 21629, 21893, 21899, 22143, 22146, 22654, 22656, 23151, 23265, 23269, 23425, 23474]\n",
      "\n",
      "read3874 49 3161 17544 27768 [806, 927, 970, 1003, 1140, 1141, 1745, 2037, 2567, 2795, 3467, 3729, 4245, 4816, 4849, 5161, 5284, 6830, 6891, 6937, 6985, 7397, 7465, 7827, 7855, 7872, 8074, 8136, 9141, 9145, 9151, 10061, 10221, 10261, 10963, 11536, 11869, 11914, 12874, 13100, 13330, 13644, 13645, 14036, 14808, 14996, 15322, 15534, 15537]\n",
      "\n",
      "read12059 40 2772 15337 27388 [669, 2524, 2697, 2853, 3091, 3096, 3103, 3709, 4149, 4351, 4913, 5404, 5428, 5468, 5816, 5863, 6388, 6415, 6749, 7608, 8111, 8462, 8634, 8730, 9079, 10063, 10125, 10642, 10650, 10656, 10713, 10714, 11098, 11191, 11715, 12010, 13536, 14865, 14866, 15009]\n",
      "\n",
      "read15623 55 3539 19838 26957 [2148, 2527, 3243, 3656, 4090, 5685, 5690, 5824, 5826, 5979, 6522, 6523, 6930, 7121, 7131, 7185, 8150, 8151, 9000, 9365, 9430, 9773, 10445, 10500, 10544, 10549, 10937, 12169, 12470, 12533, 12541, 12714, 12768, 13729, 13870, 13874, 13875, 14320, 14419, 14627, 14676, 14844, 15169, 15284, 15287, 15288, 15299, 15300, 16750, 17574, 17579, 18295, 18521, 19358, 19594]\n",
      "\n"
     ]
    }
   ],
   "source": [
    "print('Wrongly kept reads which are most contained')\n",
    "for name in wronglyKeptNames:\n",
    "    if name in nameToLog and nameToScore[name] > 0 and nameToScore[name] >= uncontainedCI[len(uncontainedCI)-5]:\n",
    "        tokens = nameToLog[name]\n",
    "        longestChain = int(tokens[1])\n",
    "        numMinimizers = int(tokens[5])\n",
    "        readLength = int(tokens[3])\n",
    "        chain = tokens[2]\n",
    "        ci = nameToScore[name]\n",
    "        print(name + ' ' + str(longestChain) + ' ' + str(numMinimizers) + ' ' + str(readLength) + ' ' + str(ci) + ' ' + chain)\n",
    "        print('')"
   ]
  },
  {
   "cell_type": "markdown",
   "metadata": {},
   "source": [
    "## How the number of incorrectly removed reads compares to a length-based threshold\n",
    "Here the length threshold is set to match the number of removed reads of the filter settings.  Note that even with the same number of reads, the length-based filter keeps 5% more of the overall bases because it throws out mostly shorter reads.  Even so, my filter is outperforming the length-based filter in terms of the number of incorrectly removed reads."
   ]
  },
  {
   "cell_type": "code",
   "execution_count": 7,
   "metadata": {},
   "outputs": [
    {
     "name": "stdout",
     "output_type": "stream",
     "text": [
      "My incorrectly removed: 21\n",
      "Length threshold to remove same number of reads: 23267\n",
      "Length-based incorrectly removed: 35\n",
      "Length-based percent of bases kept 37.96743240310057\n",
      "My percent of bases kept: 32.68170351520422\n"
     ]
    }
   ],
   "source": [
    "def countLen(countKeep, lens, ct):\n",
    "    sorter = []\n",
    "    for i in range(0, len(lens)):\n",
    "        sorter.append((lens[i], ct[i]))\n",
    "    sorter.sort()\n",
    "    bad = 0\n",
    "    totRemovedLen = 0\n",
    "    lt = str(sorter[len(lens)-countKeep][0])\n",
    "    print('Length threshold to remove same number of reads: ' + str(lt))\n",
    "    for i in range(0, len(lens)-countKeep-1):\n",
    "        totRemovedLen += sorter[i][0]\n",
    "        if sorter[i][1] < 0:\n",
    "            bad += 1\n",
    "    print('Length-based incorrectly removed: ' + str(bad))\n",
    "    percentBasesRemoved = 100*float(totLength - totRemovedLen) / float(totLength)\n",
    "    print('Length-based percent of bases kept ' + str(percentBasesRemoved))\n",
    "   \n",
    "print('My incorrectly removed: ' + str(len(wronglyRemovedNames)))\n",
    "countLen(len(uncontainedNames), lens, containmentIndex)\n",
    "\n",
    "print('My percent of bases kept: '+ str(float(myUncontainedLen * 100) / float(totLength)))"
   ]
  },
  {
   "cell_type": "code",
   "execution_count": null,
   "metadata": {},
   "outputs": [],
   "source": []
  }
 ],
 "metadata": {
  "kernelspec": {
   "display_name": "Python 3",
   "language": "python",
   "name": "python3"
  },
  "language_info": {
   "codemirror_mode": {
    "name": "ipython",
    "version": 3
   },
   "file_extension": ".py",
   "mimetype": "text/x-python",
   "name": "python",
   "nbconvert_exporter": "python",
   "pygments_lexer": "ipython3",
   "version": "3.7.1"
  }
 },
 "nbformat": 4,
 "nbformat_minor": 2
}
